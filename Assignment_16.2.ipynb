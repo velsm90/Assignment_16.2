{
 "cells": [
  {
   "cell_type": "code",
   "execution_count": 2,
   "metadata": {},
   "outputs": [
    {
     "name": "stdout",
     "output_type": "stream",
     "text": [
      "The sample varience is: 5183.25\n"
     ]
    }
   ],
   "source": [
    "# Question: Find the variance for the following set of data representing trees in California (heights in\n",
    "#feet):\n",
    "\n",
    "# Answer:\n",
    "#Method 1 (Calculate sample varience using var function):\n",
    "# Import Libraries\n",
    "import numpy as np\n",
    "import pandas as pd\n",
    "\n",
    "# Store tree heights\n",
    "tree_height = [3, 21, 98, 203, 17, 9]\n",
    "# Print the sample varience\n",
    "print('The sample varience is:', np.var(tree_height))"
   ]
  },
  {
   "cell_type": "code",
   "execution_count": 13,
   "metadata": {},
   "outputs": [
    {
     "name": "stdout",
     "output_type": "stream",
     "text": [
      "The sample varience is:  5182.25\n"
     ]
    }
   ],
   "source": [
    "#Method 2 (Calculate sample varience manually):\n",
    "#Step1: Sum of all numbers\n",
    "sum = np.sum(tree_height)\n",
    "sum1= sum * sum\n",
    "n= len(tree_height)\n",
    "average = sum1/n\n",
    "\n",
    "# Step2:\n",
    "sqr_sum = 0\n",
    "for i in tree_height:\n",
    "    #print(tree_height[i])\n",
    "    a = (i)*(i)\n",
    "    sqr_sum = sqr_sum + a\n",
    "\n",
    "# Step3:    \n",
    "varience = (sqr_sum - average)/n-1\n",
    "print(\"The sample varience is: \",varience)"
   ]
  }
 ],
 "metadata": {
  "kernelspec": {
   "display_name": "Python 3",
   "language": "python",
   "name": "python3"
  },
  "language_info": {
   "codemirror_mode": {
    "name": "ipython",
    "version": 3
   },
   "file_extension": ".py",
   "mimetype": "text/x-python",
   "name": "python",
   "nbconvert_exporter": "python",
   "pygments_lexer": "ipython3",
   "version": "3.6.4"
  }
 },
 "nbformat": 4,
 "nbformat_minor": 2
}
